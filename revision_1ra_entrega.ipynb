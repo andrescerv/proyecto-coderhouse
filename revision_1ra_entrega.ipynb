{
 "cells": [
  {
   "cell_type": "code",
   "execution_count": 23,
   "id": "27753c35",
   "metadata": {},
   "outputs": [],
   "source": [
    "import pandas as pd\n",
    "import matplotlib.pyplot as plt\n",
    "import numpy as np\n",
    "import seaborn as sns\n",
    "\n",
    "from sklearn.linear_model import LinearRegression \n",
    "from sklearn.model_selection import KFold\n",
    "from sklearn.model_selection import train_test_split"
   ]
  },
  {
   "cell_type": "code",
   "execution_count": 42,
   "id": "1e5d2d5c",
   "metadata": {},
   "outputs": [
    {
     "data": {
      "text/plain": [
       "(2854, 7)"
      ]
     },
     "execution_count": 42,
     "metadata": {},
     "output_type": "execute_result"
    }
   ],
   "source": [
    "# cargando csv\n",
    "btc = pd.read_csv('Bitcoin.csv', sep=\",\", encoding='latin-1')\n",
    "btc.shape"
   ]
  },
  {
   "cell_type": "markdown",
   "id": "02025195",
   "metadata": {},
   "source": [
    "El dataset cuenta con 2854 registros y 7 filas."
   ]
  },
  {
   "cell_type": "code",
   "execution_count": 43,
   "id": "4b04b0df",
   "metadata": {},
   "outputs": [
    {
     "data": {
      "text/html": [
       "<div>\n",
       "<style scoped>\n",
       "    .dataframe tbody tr th:only-of-type {\n",
       "        vertical-align: middle;\n",
       "    }\n",
       "\n",
       "    .dataframe tbody tr th {\n",
       "        vertical-align: top;\n",
       "    }\n",
       "\n",
       "    .dataframe thead th {\n",
       "        text-align: right;\n",
       "    }\n",
       "</style>\n",
       "<table border=\"1\" class=\"dataframe\">\n",
       "  <thead>\n",
       "    <tr style=\"text-align: right;\">\n",
       "      <th></th>\n",
       "      <th>Date</th>\n",
       "      <th>Open</th>\n",
       "      <th>High</th>\n",
       "      <th>Low</th>\n",
       "      <th>Close</th>\n",
       "      <th>Volume</th>\n",
       "      <th>Currency</th>\n",
       "    </tr>\n",
       "  </thead>\n",
       "  <tbody>\n",
       "    <tr>\n",
       "      <th>0</th>\n",
       "      <td>2014-09-17</td>\n",
       "      <td>465.864014</td>\n",
       "      <td>468.174011</td>\n",
       "      <td>452.421997</td>\n",
       "      <td>457.334015</td>\n",
       "      <td>21056800</td>\n",
       "      <td>USD</td>\n",
       "    </tr>\n",
       "    <tr>\n",
       "      <th>1</th>\n",
       "      <td>2014-09-18</td>\n",
       "      <td>456.859985</td>\n",
       "      <td>456.859985</td>\n",
       "      <td>413.104004</td>\n",
       "      <td>424.440002</td>\n",
       "      <td>34483200</td>\n",
       "      <td>USD</td>\n",
       "    </tr>\n",
       "    <tr>\n",
       "      <th>2</th>\n",
       "      <td>2014-09-19</td>\n",
       "      <td>424.102997</td>\n",
       "      <td>427.834991</td>\n",
       "      <td>384.532013</td>\n",
       "      <td>394.795990</td>\n",
       "      <td>37919700</td>\n",
       "      <td>USD</td>\n",
       "    </tr>\n",
       "    <tr>\n",
       "      <th>3</th>\n",
       "      <td>2014-09-20</td>\n",
       "      <td>394.673004</td>\n",
       "      <td>423.295990</td>\n",
       "      <td>389.882996</td>\n",
       "      <td>408.903992</td>\n",
       "      <td>36863600</td>\n",
       "      <td>USD</td>\n",
       "    </tr>\n",
       "    <tr>\n",
       "      <th>4</th>\n",
       "      <td>2014-09-21</td>\n",
       "      <td>408.084991</td>\n",
       "      <td>412.425995</td>\n",
       "      <td>393.181000</td>\n",
       "      <td>398.821014</td>\n",
       "      <td>26580100</td>\n",
       "      <td>USD</td>\n",
       "    </tr>\n",
       "  </tbody>\n",
       "</table>\n",
       "</div>"
      ],
      "text/plain": [
       "         Date        Open        High         Low       Close    Volume  \\\n",
       "0  2014-09-17  465.864014  468.174011  452.421997  457.334015  21056800   \n",
       "1  2014-09-18  456.859985  456.859985  413.104004  424.440002  34483200   \n",
       "2  2014-09-19  424.102997  427.834991  384.532013  394.795990  37919700   \n",
       "3  2014-09-20  394.673004  423.295990  389.882996  408.903992  36863600   \n",
       "4  2014-09-21  408.084991  412.425995  393.181000  398.821014  26580100   \n",
       "\n",
       "  Currency  \n",
       "0      USD  \n",
       "1      USD  \n",
       "2      USD  \n",
       "3      USD  \n",
       "4      USD  "
      ]
     },
     "execution_count": 43,
     "metadata": {},
     "output_type": "execute_result"
    }
   ],
   "source": [
    "btc.head()"
   ]
  },
  {
   "cell_type": "code",
   "execution_count": 44,
   "id": "329eba80",
   "metadata": {},
   "outputs": [
    {
     "name": "stdout",
     "output_type": "stream",
     "text": [
      "<class 'pandas.core.frame.DataFrame'>\n",
      "RangeIndex: 2854 entries, 0 to 2853\n",
      "Data columns (total 7 columns):\n",
      " #   Column    Non-Null Count  Dtype  \n",
      "---  ------    --------------  -----  \n",
      " 0   Date      2854 non-null   object \n",
      " 1   Open      2854 non-null   float64\n",
      " 2   High      2854 non-null   float64\n",
      " 3   Low       2854 non-null   float64\n",
      " 4   Close     2854 non-null   float64\n",
      " 5   Volume    2854 non-null   int64  \n",
      " 6   Currency  2854 non-null   object \n",
      "dtypes: float64(4), int64(1), object(2)\n",
      "memory usage: 156.2+ KB\n"
     ]
    }
   ],
   "source": [
    "btc.info()"
   ]
  },
  {
   "cell_type": "markdown",
   "id": "285cc519",
   "metadata": {},
   "source": [
    "Valores nulos:\n",
    "* El dataset no presenta valores nulos.\n",
    "\n",
    "Tipos de datos:\n",
    "* La columna 'Date' debe ser transformada a tipo datetime.\n",
    "* Las columnas 'Open', 'High', 'Low', 'Close' son de tipo `float64`. OK\n",
    "* La columna 'Volume' es de tipo `int64`. OK\n",
    "* La columna 'Currency' de tipo `object`. OK"
   ]
  },
  {
   "cell_type": "code",
   "execution_count": 35,
   "id": "61c94ecc",
   "metadata": {},
   "outputs": [
    {
     "data": {
      "text/html": [
       "<div>\n",
       "<style scoped>\n",
       "    .dataframe tbody tr th:only-of-type {\n",
       "        vertical-align: middle;\n",
       "    }\n",
       "\n",
       "    .dataframe tbody tr th {\n",
       "        vertical-align: top;\n",
       "    }\n",
       "\n",
       "    .dataframe thead th {\n",
       "        text-align: right;\n",
       "    }\n",
       "</style>\n",
       "<table border=\"1\" class=\"dataframe\">\n",
       "  <thead>\n",
       "    <tr style=\"text-align: right;\">\n",
       "      <th></th>\n",
       "      <th>Open</th>\n",
       "      <th>High</th>\n",
       "      <th>Low</th>\n",
       "      <th>Close</th>\n",
       "      <th>Volume</th>\n",
       "    </tr>\n",
       "  </thead>\n",
       "  <tbody>\n",
       "    <tr>\n",
       "      <th>count</th>\n",
       "      <td>2854.000000</td>\n",
       "      <td>2854.000000</td>\n",
       "      <td>2854.000000</td>\n",
       "      <td>2854.000000</td>\n",
       "      <td>2.854000e+03</td>\n",
       "    </tr>\n",
       "    <tr>\n",
       "      <th>mean</th>\n",
       "      <td>12444.903732</td>\n",
       "      <td>12768.600474</td>\n",
       "      <td>12081.369272</td>\n",
       "      <td>12450.552730</td>\n",
       "      <td>1.545053e+10</td>\n",
       "    </tr>\n",
       "    <tr>\n",
       "      <th>std</th>\n",
       "      <td>16577.341124</td>\n",
       "      <td>17005.417766</td>\n",
       "      <td>16080.505775</td>\n",
       "      <td>16572.919487</td>\n",
       "      <td>1.991923e+10</td>\n",
       "    </tr>\n",
       "    <tr>\n",
       "      <th>min</th>\n",
       "      <td>176.897003</td>\n",
       "      <td>211.731003</td>\n",
       "      <td>171.509995</td>\n",
       "      <td>178.102997</td>\n",
       "      <td>5.914570e+06</td>\n",
       "    </tr>\n",
       "    <tr>\n",
       "      <th>25%</th>\n",
       "      <td>636.274521</td>\n",
       "      <td>642.085510</td>\n",
       "      <td>625.957230</td>\n",
       "      <td>637.079514</td>\n",
       "      <td>8.649955e+07</td>\n",
       "    </tr>\n",
       "    <tr>\n",
       "      <th>50%</th>\n",
       "      <td>6572.784912</td>\n",
       "      <td>6674.324951</td>\n",
       "      <td>6453.779785</td>\n",
       "      <td>6578.659912</td>\n",
       "      <td>5.864455e+09</td>\n",
       "    </tr>\n",
       "    <tr>\n",
       "      <th>75%</th>\n",
       "      <td>11538.891113</td>\n",
       "      <td>11854.514404</td>\n",
       "      <td>11288.520996</td>\n",
       "      <td>11568.815674</td>\n",
       "      <td>2.632111e+10</td>\n",
       "    </tr>\n",
       "    <tr>\n",
       "      <th>max</th>\n",
       "      <td>67549.734375</td>\n",
       "      <td>68789.625000</td>\n",
       "      <td>66382.062500</td>\n",
       "      <td>67566.828125</td>\n",
       "      <td>3.509679e+11</td>\n",
       "    </tr>\n",
       "  </tbody>\n",
       "</table>\n",
       "</div>"
      ],
      "text/plain": [
       "               Open          High           Low         Close        Volume\n",
       "count   2854.000000   2854.000000   2854.000000   2854.000000  2.854000e+03\n",
       "mean   12444.903732  12768.600474  12081.369272  12450.552730  1.545053e+10\n",
       "std    16577.341124  17005.417766  16080.505775  16572.919487  1.991923e+10\n",
       "min      176.897003    211.731003    171.509995    178.102997  5.914570e+06\n",
       "25%      636.274521    642.085510    625.957230    637.079514  8.649955e+07\n",
       "50%     6572.784912   6674.324951   6453.779785   6578.659912  5.864455e+09\n",
       "75%    11538.891113  11854.514404  11288.520996  11568.815674  2.632111e+10\n",
       "max    67549.734375  68789.625000  66382.062500  67566.828125  3.509679e+11"
      ]
     },
     "execution_count": 35,
     "metadata": {},
     "output_type": "execute_result"
    }
   ],
   "source": [
    "#Estadísticas Básicas\n",
    "btc.describe()"
   ]
  },
  {
   "cell_type": "markdown",
   "id": "019bb1df",
   "metadata": {},
   "source": [
    "Interpretación de `btc.describe()`: _____\n",
    "\n",
    "Ej: las medias de todas las variables numéricas (menos 'Volume') rondan entre los 12,000 y 13,000.\n"
   ]
  },
  {
   "cell_type": "code",
   "execution_count": 5,
   "id": "d8759350",
   "metadata": {},
   "outputs": [
    {
     "data": {
      "text/plain": [
       "(2854, 7)"
      ]
     },
     "execution_count": 5,
     "metadata": {},
     "output_type": "execute_result"
    }
   ],
   "source": [
    "#Cantidad de Filas y columnas\n",
    "Bitcoin.shape"
   ]
  },
  {
   "cell_type": "code",
   "execution_count": 6,
   "id": "b178dba3",
   "metadata": {},
   "outputs": [
    {
     "data": {
      "text/plain": [
       "Index(['Date', 'Open', 'High', 'Low', 'Close', 'Volume', 'Currency'], dtype='object')"
      ]
     },
     "execution_count": 6,
     "metadata": {},
     "output_type": "execute_result"
    }
   ],
   "source": [
    "#Nombre columnas:\n",
    "Bitcoin.columns"
   ]
  },
  {
   "cell_type": "code",
   "execution_count": 7,
   "id": "9d18e288",
   "metadata": {},
   "outputs": [
    {
     "data": {
      "text/plain": [
       "DatetimeIndex(['2014-12-31', '2015-12-31', '2016-12-31', '2017-12-31',\n",
       "               '2018-12-31', '2019-12-31', '2020-12-31', '2021-12-31'],\n",
       "              dtype='datetime64[ns]', freq='A-DEC')"
      ]
     },
     "execution_count": 7,
     "metadata": {},
     "output_type": "execute_result"
    }
   ],
   "source": [
    "## acn: ¿para qué se hace esto?\n",
    "#Observamos el rango de fechas de los registros\n",
    "#Date = pd.date_range(min(Bitcoin['Date']),max(Bitcoin['Date']),freq='Y')\n",
    "#Date"
   ]
  },
  {
   "cell_type": "code",
   "execution_count": 45,
   "id": "a23757b9",
   "metadata": {},
   "outputs": [],
   "source": [
    "#Transformamos la columna Date de (str) a (date)\n",
    "btc['Date'] =  pd.to_datetime(btc['Date'])\n",
    "btc = btc.set_index('Date')"
   ]
  },
  {
   "cell_type": "code",
   "execution_count": 47,
   "id": "68500b54",
   "metadata": {},
   "outputs": [
    {
     "name": "stdout",
     "output_type": "stream",
     "text": [
      "<class 'pandas.core.frame.DataFrame'>\n",
      "DatetimeIndex: 2854 entries, 2014-09-17 to 2022-07-10\n",
      "Data columns (total 6 columns):\n",
      " #   Column    Non-Null Count  Dtype  \n",
      "---  ------    --------------  -----  \n",
      " 0   Open      2854 non-null   float64\n",
      " 1   High      2854 non-null   float64\n",
      " 2   Low       2854 non-null   float64\n",
      " 3   Close     2854 non-null   float64\n",
      " 4   Volume    2854 non-null   int64  \n",
      " 5   Currency  2854 non-null   object \n",
      "dtypes: float64(4), int64(1), object(1)\n",
      "memory usage: 156.1+ KB\n"
     ]
    }
   ],
   "source": [
    "# corroboramos cambio de tipo\n",
    "btc.info()"
   ]
  },
  {
   "cell_type": "code",
   "execution_count": 48,
   "id": "787ee653",
   "metadata": {},
   "outputs": [],
   "source": [
    "#EDA Utiizamos ECDF´s plot para observar la distribución de los precios de BITCOIN\n",
    "def ecdf(data):\n",
    "    \"\"\"Compute ECDF for a one-dimensional array of measurements.\"\"\"\n",
    "    # Number of data points: n\n",
    "    n = len(data)\n",
    "\n",
    "    # x-data for the ECDF: x\n",
    "    x = np.sort(data)\n",
    "\n",
    "    # y-data for the ECDF: y\n",
    "    y = np.arange(1, len(x)+1) / n\n",
    "\n",
    "    return x, y"
   ]
  },
  {
   "cell_type": "code",
   "execution_count": 53,
   "id": "6745bebe",
   "metadata": {},
   "outputs": [],
   "source": [
    "ecdf_Open_x, ecdf_Open_y = ecdf(btc.Open)\n",
    "ecdf_High_x, ecdf_High_y = ecdf(btc.High)\n",
    "ecdf_Low_x, ecdf_Low_y = ecdf(btc.Low)\n",
    "ecdf_Close_x, ecdf_Close_y = ecdf(btc.Close)\n",
    "ecdf_Volume_x, ecdf_Volume_y = ecdf(btc.Volume)"
   ]
  },
  {
   "cell_type": "code",
   "execution_count": 75,
   "id": "9b383518",
   "metadata": {},
   "outputs": [
    {
     "data": {
      "image/png": "[encoded data removed]",
      "text/plain": [
       "<Figure size 360x360 with 1 Axes>"
      ]
     },
     "metadata": {
      "needs_background": "light"
     },
     "output_type": "display_data"
    }
   ],
   "source": [
    "#Ploteamos nuestro ECDF \n",
    "\n",
    "plt.figure(figsize=(5,5))\n",
    "#plt.plot(ecdf_open_x, ecdf_open_y, marker='.',linestyle='-')\n",
    "plt.plot(ecdf_Open_x, ecdf_Open_y)\n",
    "plt.xlabel('Open ($USD)')\n",
    "plt.ylabel('ECDF')\n",
    "plt.grid(color='r', linestyle='dotted', linewidth=1)\n",
    "plt.show()"
   ]
  },
  {
   "cell_type": "code",
   "execution_count": 68,
   "id": "a378c7ff",
   "metadata": {},
   "outputs": [
    {
     "data": {
      "image/png": "[encoded data removed]",
      "text/plain": [
       "<Figure size 360x720 with 5 Axes>"
      ]
     },
     "metadata": {
      "needs_background": "light"
     },
     "output_type": "display_data"
    }
   ],
   "source": [
    "# usar subplots: https://matplotlib.org/stable/gallery/subplots_axes_and_figures/subplots_demo.html\n",
    "\n",
    "fig, axs = plt.subplots(nrows=5, ncols=1, figsize=(5, 10))\n",
    "axs[0].plot(ecdf_Open_x, ecdf_Open_y)\n",
    "axs[0].set_title('Open')\n",
    "axs[1].plot(ecdf_Close_x, ecdf_Close_y)\n",
    "axs[1].set_title('Close')\n",
    "axs[2].plot(ecdf_High_x, ecdf_High_y)\n",
    "axs[2].set_title('High')\n",
    "axs[3].plot(ecdf_Low_x, ecdf_Low_y)\n",
    "axs[3].set_title('Low')\n",
    "axs[4].plot(ecdf_Volume_x, ecdf_Volume_y)\n",
    "axs[4].set_title('Volume')\n",
    "\n",
    "for ax in axs.flat:\n",
    "    ax.set(xlabel='x-label', ylabel='y-label')\n",
    "\n",
    "# # Hide x labels and tick labels for top plots and y ticks for right plots.\n",
    "# for ax in axs.flat:\n",
    "#     ax.label_outer()\n",
    "\n",
    "fig.tight_layout()\n",
    "plt.show()"
   ]
  },
  {
   "cell_type": "code",
   "execution_count": 79,
   "id": "f0ba0063",
   "metadata": {},
   "outputs": [
    {
     "data": {
      "image/png": "[encoded data removed]",
      "text/plain": [
       "<Figure size 360x360 with 1 Axes>"
      ]
     },
     "metadata": {
      "needs_background": "light"
     },
     "output_type": "display_data"
    }
   ],
   "source": [
    "date = btc.index\n",
    "close = btc['Close']\n",
    "\n",
    "plt.figure(figsize=(5,5))\n",
    "plt.plot(date, close, marker='.', linestyle='none')\n",
    "plt.xlabel('date')\n",
    "plt.ylabel('Price ($USD)')\n",
    "plt.title('Close')\n",
    "plt.grid(color='r', linestyle='dotted', linewidth=1)\n",
    "plt.show()"
   ]
  },
  {
   "cell_type": "markdown",
   "id": "7c9d4f34",
   "metadata": {},
   "source": [
    "Interpretación de serie de tiempo: ____"
   ]
  },
  {
   "cell_type": "code",
   "execution_count": 83,
   "id": "6a490153",
   "metadata": {},
   "outputs": [
    {
     "data": {
      "image/png": "[encoded data removed]",
      "text/plain": [
       "<Figure size 360x360 with 1 Axes>"
      ]
     },
     "metadata": {
      "needs_background": "light"
     },
     "output_type": "display_data"
    }
   ],
   "source": [
    "#Box Plot para observar mejor OUTLIERS\n",
    "plt.figure(figsize=(5,5))\n",
    "sns.boxplot(y='High', data=btc)\n",
    "plt.ylabel('High')\n",
    "plt.show()"
   ]
  },
  {
   "cell_type": "markdown",
   "id": "dd6d86ca",
   "metadata": {},
   "source": [
    "Interpretación de boxplot: ____"
   ]
  },
  {
   "cell_type": "code",
   "execution_count": 84,
   "id": "9a05c7cd",
   "metadata": {},
   "outputs": [
    {
     "data": {
      "text/plain": [
       "<AxesSubplot:>"
      ]
     },
     "execution_count": 84,
     "metadata": {},
     "output_type": "execute_result"
    },
    {
     "data": {
      "image/png": "[encoded data removed]",
      "text/plain": [
       "<Figure size 432x288 with 2 Axes>"
      ]
     },
     "metadata": {
      "needs_background": "light"
     },
     "output_type": "display_data"
    }
   ],
   "source": [
    "#Correlación de los FEATURES\n",
    "sns.heatmap(btc.corr())"
   ]
  },
  {
   "cell_type": "markdown",
   "id": "9e622cfc",
   "metadata": {},
   "source": [
    "Interpretación de mapa de corrleación: ____"
   ]
  },
  {
   "cell_type": "markdown",
   "id": "4e08afcb",
   "metadata": {},
   "source": [
    "# Modelo"
   ]
  },
  {
   "cell_type": "code",
   "execution_count": 131,
   "id": "75ae2674",
   "metadata": {},
   "outputs": [],
   "source": [
    "X = btc.drop(columns=['Close','Currency'])\n",
    "y = btc.Close"
   ]
  },
  {
   "cell_type": "code",
   "execution_count": 132,
   "id": "74223e0e",
   "metadata": {},
   "outputs": [],
   "source": [
    "X_train, X_test, y_train, y_test = train_test_split(X,y,test_size =0.2,random_state=42,)"
   ]
  },
  {
   "cell_type": "code",
   "execution_count": 133,
   "id": "a949a340",
   "metadata": {},
   "outputs": [],
   "source": [
    "# Creating regressor\n",
    "reg = LinearRegression().fit(X,y)"
   ]
  },
  {
   "cell_type": "code",
   "execution_count": 134,
   "id": "77ba7f73",
   "metadata": {},
   "outputs": [
    {
     "data": {
      "text/plain": [
       "0.9995898687006445"
      ]
     },
     "execution_count": 134,
     "metadata": {},
     "output_type": "execute_result"
    }
   ],
   "source": [
    "reg.score(X,y)"
   ]
  },
  {
   "cell_type": "code",
   "execution_count": 135,
   "id": "eca0a1e6",
   "metadata": {},
   "outputs": [
    {
     "data": {
      "text/plain": [
       "array([-5.54429506e-01,  9.14970680e-01,  6.33916348e-01,  5.14219001e-10])"
      ]
     },
     "execution_count": 135,
     "metadata": {},
     "output_type": "execute_result"
    }
   ],
   "source": [
    "reg.coef_"
   ]
  },
  {
   "cell_type": "code",
   "execution_count": 136,
   "id": "f60e8930",
   "metadata": {},
   "outputs": [
    {
     "data": {
      "text/plain": [
       "0.9570596639950963"
      ]
     },
     "execution_count": 136,
     "metadata": {},
     "output_type": "execute_result"
    }
   ],
   "source": [
    "reg.intercept_"
   ]
  },
  {
   "cell_type": "code",
   "execution_count": 137,
   "id": "6e9c6c92",
   "metadata": {},
   "outputs": [],
   "source": [
    "y_pred = reg.predict(X_test)"
   ]
  },
  {
   "cell_type": "markdown",
   "id": "23d80a9f",
   "metadata": {},
   "source": [
    "## Resultados"
   ]
  },
  {
   "cell_type": "code",
   "execution_count": 138,
   "id": "3e088e7c",
   "metadata": {},
   "outputs": [],
   "source": [
    "from sklearn.metrics import mean_absolute_error, mean_squared_error"
   ]
  },
  {
   "cell_type": "code",
   "execution_count": 139,
   "id": "120bc65a",
   "metadata": {},
   "outputs": [
    {
     "data": {
      "text/plain": [
       "164.981764834014"
      ]
     },
     "execution_count": 139,
     "metadata": {},
     "output_type": "execute_result"
    }
   ],
   "source": [
    "mean_absolute_error(y_test, y_pred)"
   ]
  },
  {
   "cell_type": "code",
   "execution_count": 140,
   "id": "f8ac9237",
   "metadata": {},
   "outputs": [
    {
     "data": {
      "text/plain": [
       "134438.208996181"
      ]
     },
     "execution_count": 140,
     "metadata": {},
     "output_type": "execute_result"
    }
   ],
   "source": [
    "mean_squared_error(y_test, y_pred)"
   ]
  },
  {
   "cell_type": "code",
   "execution_count": 162,
   "id": "2a8e6580",
   "metadata": {},
   "outputs": [
    {
     "data": {
      "text/html": [
       "<div>\n",
       "<style scoped>\n",
       "    .dataframe tbody tr th:only-of-type {\n",
       "        vertical-align: middle;\n",
       "    }\n",
       "\n",
       "    .dataframe tbody tr th {\n",
       "        vertical-align: top;\n",
       "    }\n",
       "\n",
       "    .dataframe thead th {\n",
       "        text-align: right;\n",
       "    }\n",
       "</style>\n",
       "<table border=\"1\" class=\"dataframe\">\n",
       "  <thead>\n",
       "    <tr style=\"text-align: right;\">\n",
       "      <th></th>\n",
       "      <th>actual</th>\n",
       "      <th>pred</th>\n",
       "    </tr>\n",
       "  </thead>\n",
       "  <tbody>\n",
       "    <tr>\n",
       "      <th>0</th>\n",
       "      <td>3706.052246</td>\n",
       "      <td>3694.297348</td>\n",
       "    </tr>\n",
       "    <tr>\n",
       "      <th>1</th>\n",
       "      <td>11790.916992</td>\n",
       "      <td>11677.021741</td>\n",
       "    </tr>\n",
       "    <tr>\n",
       "      <th>2</th>\n",
       "      <td>689.651001</td>\n",
       "      <td>684.988743</td>\n",
       "    </tr>\n",
       "    <tr>\n",
       "      <th>3</th>\n",
       "      <td>11182.806641</td>\n",
       "      <td>11634.699862</td>\n",
       "    </tr>\n",
       "    <tr>\n",
       "      <th>4</th>\n",
       "      <td>243.931000</td>\n",
       "      <td>243.464483</td>\n",
       "    </tr>\n",
       "    <tr>\n",
       "      <th>...</th>\n",
       "      <td>...</td>\n",
       "      <td>...</td>\n",
       "    </tr>\n",
       "    <tr>\n",
       "      <th>566</th>\n",
       "      <td>9427.687500</td>\n",
       "      <td>9447.719463</td>\n",
       "    </tr>\n",
       "    <tr>\n",
       "      <th>567</th>\n",
       "      <td>253.828003</td>\n",
       "      <td>254.603228</td>\n",
       "    </tr>\n",
       "    <tr>\n",
       "      <th>568</th>\n",
       "      <td>7531.663574</td>\n",
       "      <td>7402.663619</td>\n",
       "    </tr>\n",
       "    <tr>\n",
       "      <th>569</th>\n",
       "      <td>237.283005</td>\n",
       "      <td>237.920693</td>\n",
       "    </tr>\n",
       "    <tr>\n",
       "      <th>570</th>\n",
       "      <td>11966.407227</td>\n",
       "      <td>11669.764137</td>\n",
       "    </tr>\n",
       "  </tbody>\n",
       "</table>\n",
       "<p>571 rows × 2 columns</p>\n",
       "</div>"
      ],
      "text/plain": [
       "           actual          pred\n",
       "0     3706.052246   3694.297348\n",
       "1    11790.916992  11677.021741\n",
       "2      689.651001    684.988743\n",
       "3    11182.806641  11634.699862\n",
       "4      243.931000    243.464483\n",
       "..            ...           ...\n",
       "566   9427.687500   9447.719463\n",
       "567    253.828003    254.603228\n",
       "568   7531.663574   7402.663619\n",
       "569    237.283005    237.920693\n",
       "570  11966.407227  11669.764137\n",
       "\n",
       "[571 rows x 2 columns]"
      ]
     },
     "execution_count": 162,
     "metadata": {},
     "output_type": "execute_result"
    }
   ],
   "source": [
    "results = pd.DataFrame()\n",
    "results['actual'] = y_test.tolist()\n",
    "results['pred'] = y_pred.tolist()\n",
    "\n",
    "results"
   ]
  },
  {
   "cell_type": "code",
   "execution_count": 163,
   "id": "452ec796",
   "metadata": {},
   "outputs": [
    {
     "data": {
      "text/plain": [
       "<AxesSubplot:xlabel='actual', ylabel='pred'>"
      ]
     },
     "execution_count": 163,
     "metadata": {},
     "output_type": "execute_result"
    },
    {
     "data": {
      "image/png": "[encoded data removed]",
      "text/plain": [
       "<Figure size 432x288 with 1 Axes>"
      ]
     },
     "metadata": {
      "needs_background": "light"
     },
     "output_type": "display_data"
    }
   ],
   "source": [
    "sns.scatterplot(data=results, x='actual', y='pred')"
   ]
  },
  {
   "cell_type": "code",
   "execution_count": null,
   "id": "8530814a",
   "metadata": {},
   "outputs": [],
   "source": []
  }
 ],
 "metadata": {
  "kernelspec": {
   "display_name": "Python 3 (ipykernel)",
   "language": "python",
   "name": "python3"
  },
  "language_info": {
   "codemirror_mode": {
    "name": "ipython",
    "version": 3
   },
   "file_extension": ".py",
   "mimetype": "text/x-python",
   "name": "python",
   "nbconvert_exporter": "python",
   "pygments_lexer": "ipython3",
   "version": "3.9.12"
  }
 },
 "nbformat": 4,
 "nbformat_minor": 5
}
